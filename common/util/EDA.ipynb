{
 "cells": [
  {
   "cell_type": "markdown",
   "metadata": {},
   "source": [
    "# Explonatary Data Analysis"
   ]
  },
  {
   "cell_type": "markdown",
   "metadata": {},
   "source": [
    "## 1.0 Business Questions\n",
    "\n",
    "List of questions to ask yourself before execute any plan:\n",
    "1. The average comapny_rating score all the company in Malaysia.\n",
    "2. The highest company_rating score by company_employee_num.\n",
    "3. The frequency distribution of the company rating.\n",
    "4. The most common company_benefit.\n",
    "5. The number of companies distributed by state.\n",
    "6. etc\n"
   ]
  },
  {
   "cell_type": "code",
   "execution_count": 2,
   "metadata": {},
   "outputs": [
    {
     "name": "stderr",
     "output_type": "stream",
     "text": [
      "/Users/nickytan/opt/anaconda3/envs/capstone1/lib/python3.10/site-packages/scipy/__init__.py:146: UserWarning: A NumPy version >=1.16.5 and <1.23.0 is required for this version of SciPy (detected version 1.23.1\n",
      "  warnings.warn(f\"A NumPy version >={np_minversion} and <{np_maxversion}\"\n"
     ]
    }
   ],
   "source": [
    "import pandas as pd\n",
    "import numpy as np\n",
    "\n",
    "from matplotlib import pyplot as plt\n",
    "%matplotlib inline\n",
    "\n",
    "import seaborn as sns\n",
    "sns.set_style(\"darkgrid\")"
   ]
  },
  {
   "cell_type": "code",
   "execution_count": 34,
   "metadata": {},
   "outputs": [
    {
     "data": {
      "text/html": [
       "<div>\n",
       "<style scoped>\n",
       "    .dataframe tbody tr th:only-of-type {\n",
       "        vertical-align: middle;\n",
       "    }\n",
       "\n",
       "    .dataframe tbody tr th {\n",
       "        vertical-align: top;\n",
       "    }\n",
       "\n",
       "    .dataframe thead th {\n",
       "        text-align: right;\n",
       "    }\n",
       "</style>\n",
       "<table border=\"1\" class=\"dataframe\">\n",
       "  <thead>\n",
       "    <tr style=\"text-align: right;\">\n",
       "      <th></th>\n",
       "      <th>company_name</th>\n",
       "      <th>company_rating</th>\n",
       "      <th>five_star_rating</th>\n",
       "      <th>four_star_rating</th>\n",
       "      <th>three_star_rating</th>\n",
       "      <th>two_star_rating</th>\n",
       "      <th>one_star_rating</th>\n",
       "      <th>salary_rate</th>\n",
       "      <th>recommendation_rate</th>\n",
       "      <th>company_address</th>\n",
       "      <th>company_state</th>\n",
       "      <th>company_employee_num</th>\n",
       "      <th>company_benefit</th>\n",
       "      <th>company_dress_code</th>\n",
       "      <th>company_language</th>\n",
       "      <th>company_work_hours</th>\n",
       "    </tr>\n",
       "  </thead>\n",
       "  <tbody>\n",
       "    <tr>\n",
       "      <th>0</th>\n",
       "      <td>Petroliam Nasional Berhad (PETRONAS)</td>\n",
       "      <td>4.5584</td>\n",
       "      <td>1427</td>\n",
       "      <td>336</td>\n",
       "      <td>109</td>\n",
       "      <td>37</td>\n",
       "      <td>50</td>\n",
       "      <td>94%</td>\n",
       "      <td>88%</td>\n",
       "      <td>level 3, menara dayabumi\\njalan sultan hishamu...</td>\n",
       "      <td>Kuala Lumpur</td>\n",
       "      <td>&gt; 5000</td>\n",
       "      <td>Medical</td>\n",
       "      <td>Business (e.g. Shirts)</td>\n",
       "      <td>English</td>\n",
       "      <td>Regular hours, Mondays - Fridays</td>\n",
       "    </tr>\n",
       "    <tr>\n",
       "      <th>1</th>\n",
       "      <td>Malayan Banking Berhad (Maybank)</td>\n",
       "      <td>4.3470</td>\n",
       "      <td>1081</td>\n",
       "      <td>437</td>\n",
       "      <td>139</td>\n",
       "      <td>38</td>\n",
       "      <td>83</td>\n",
       "      <td>92%</td>\n",
       "      <td>87%</td>\n",
       "      <td>menara maybank jalan tun perak kuala lumpur wi...</td>\n",
       "      <td>Perak</td>\n",
       "      <td>&gt; 5000</td>\n",
       "      <td>Medical, Miscellaneous allowance, Education su...</td>\n",
       "      <td>Formal (e.g. Shirts + Ties)</td>\n",
       "      <td>English</td>\n",
       "      <td>Regular hours, Mondays - Fridays</td>\n",
       "    </tr>\n",
       "    <tr>\n",
       "      <th>2</th>\n",
       "      <td>Keysight Technologies Malaysia Sdn. Bhd.</td>\n",
       "      <td>4.5613</td>\n",
       "      <td>904</td>\n",
       "      <td>299</td>\n",
       "      <td>64</td>\n",
       "      <td>14</td>\n",
       "      <td>26</td>\n",
       "      <td>94%</td>\n",
       "      <td>94%</td>\n",
       "      <td>bayan lepas free industrial zone, 11900 penang...</td>\n",
       "      <td>Penang</td>\n",
       "      <td>2001 - 5000</td>\n",
       "      <td>Medical, Education support, Loans, Dental, Spo...</td>\n",
       "      <td>Smart Casual</td>\n",
       "      <td>English</td>\n",
       "      <td>Regular hours, Mondays - Fridays</td>\n",
       "    </tr>\n",
       "    <tr>\n",
       "      <th>3</th>\n",
       "      <td>United Overseas Bank (Malaysia) Bhd</td>\n",
       "      <td>4.6111</td>\n",
       "      <td>920</td>\n",
       "      <td>276</td>\n",
       "      <td>48</td>\n",
       "      <td>11</td>\n",
       "      <td>23</td>\n",
       "      <td>97%</td>\n",
       "      <td>93%</td>\n",
       "      <td>menara uob jalan raja laut kuala lumpur wilaya...</td>\n",
       "      <td>Kuala Lumpur</td>\n",
       "      <td>2001 - 5000</td>\n",
       "      <td>Medical, Loans, Dental, Optical</td>\n",
       "      <td>Formal (e.g. Shirts + Ties)</td>\n",
       "      <td>English</td>\n",
       "      <td>Regular hours, Mondays - Fridays</td>\n",
       "    </tr>\n",
       "    <tr>\n",
       "      <th>4</th>\n",
       "      <td>Kumpulan Wang Simpanan Pekerja (KWSP)</td>\n",
       "      <td>4.4548</td>\n",
       "      <td>783</td>\n",
       "      <td>171</td>\n",
       "      <td>113</td>\n",
       "      <td>26</td>\n",
       "      <td>35</td>\n",
       "      <td>95%</td>\n",
       "      <td>78%</td>\n",
       "      <td>bangunan kwsp, jalan raja laut, 50350 kuala lu...</td>\n",
       "      <td>Kuala Lumpur</td>\n",
       "      <td>&gt; 5000</td>\n",
       "      <td>Medical, Miscellaneous allowance, Education su...</td>\n",
       "      <td>Business Casual</td>\n",
       "      <td>Bahasa Malaysia / English</td>\n",
       "      <td>Regular hours, Mondays - Fridays</td>\n",
       "    </tr>\n",
       "  </tbody>\n",
       "</table>\n",
       "</div>"
      ],
      "text/plain": [
       "                               company_name  company_rating  five_star_rating  \\\n",
       "0      Petroliam Nasional Berhad (PETRONAS)          4.5584              1427   \n",
       "1          Malayan Banking Berhad (Maybank)          4.3470              1081   \n",
       "2  Keysight Technologies Malaysia Sdn. Bhd.          4.5613               904   \n",
       "3       United Overseas Bank (Malaysia) Bhd          4.6111               920   \n",
       "4     Kumpulan Wang Simpanan Pekerja (KWSP)          4.4548               783   \n",
       "\n",
       "   four_star_rating  three_star_rating  two_star_rating  one_star_rating  \\\n",
       "0               336                109               37               50   \n",
       "1               437                139               38               83   \n",
       "2               299                 64               14               26   \n",
       "3               276                 48               11               23   \n",
       "4               171                113               26               35   \n",
       "\n",
       "  salary_rate recommendation_rate  \\\n",
       "0         94%                 88%   \n",
       "1         92%                 87%   \n",
       "2         94%                 94%   \n",
       "3         97%                 93%   \n",
       "4         95%                 78%   \n",
       "\n",
       "                                     company_address company_state  \\\n",
       "0  level 3, menara dayabumi\\njalan sultan hishamu...  Kuala Lumpur   \n",
       "1  menara maybank jalan tun perak kuala lumpur wi...         Perak   \n",
       "2  bayan lepas free industrial zone, 11900 penang...        Penang   \n",
       "3  menara uob jalan raja laut kuala lumpur wilaya...  Kuala Lumpur   \n",
       "4  bangunan kwsp, jalan raja laut, 50350 kuala lu...  Kuala Lumpur   \n",
       "\n",
       "  company_employee_num                                    company_benefit  \\\n",
       "0              > 5000                                             Medical   \n",
       "1              > 5000   Medical, Miscellaneous allowance, Education su...   \n",
       "2         2001 - 5000   Medical, Education support, Loans, Dental, Spo...   \n",
       "3         2001 - 5000                     Medical, Loans, Dental, Optical   \n",
       "4              > 5000   Medical, Miscellaneous allowance, Education su...   \n",
       "\n",
       "            company_dress_code           company_language  \\\n",
       "0       Business (e.g. Shirts)                    English   \n",
       "1  Formal (e.g. Shirts + Ties)                    English   \n",
       "2                 Smart Casual                    English   \n",
       "3  Formal (e.g. Shirts + Ties)                    English   \n",
       "4              Business Casual  Bahasa Malaysia / English   \n",
       "\n",
       "                 company_work_hours  \n",
       "0  Regular hours, Mondays - Fridays  \n",
       "1  Regular hours, Mondays - Fridays  \n",
       "2  Regular hours, Mondays - Fridays  \n",
       "3  Regular hours, Mondays - Fridays  \n",
       "4  Regular hours, Mondays - Fridays  "
      ]
     },
     "execution_count": 34,
     "metadata": {},
     "output_type": "execute_result"
    }
   ],
   "source": [
    "df = pd.read_csv(\"/Users/nickytan/Documents/FS_Data_Science/Capstone_project/JobRev/common/util/company_list_state_classified.csv\", index_col=\"Unnamed: 0\")\n",
    "\n",
    "df.head()"
   ]
  },
  {
   "cell_type": "code",
   "execution_count": 10,
   "metadata": {},
   "outputs": [
    {
     "data": {
      "text/plain": [
       "(7460, 16)"
      ]
     },
     "execution_count": 10,
     "metadata": {},
     "output_type": "execute_result"
    }
   ],
   "source": [
    "df.shape"
   ]
  },
  {
   "cell_type": "code",
   "execution_count": 11,
   "metadata": {},
   "outputs": [],
   "source": [
    "df = df.drop_duplicates()"
   ]
  },
  {
   "cell_type": "code",
   "execution_count": 12,
   "metadata": {},
   "outputs": [
    {
     "data": {
      "text/plain": [
       "(6915, 16)"
      ]
     },
     "execution_count": 12,
     "metadata": {},
     "output_type": "execute_result"
    }
   ],
   "source": [
    "df.shape"
   ]
  },
  {
   "cell_type": "code",
   "execution_count": 35,
   "metadata": {},
   "outputs": [],
   "source": [
    "df[\"salary_rate\"] = df[\"salary_rate\"].apply(lambda x : int(x.split(\"%\")[0]))\n",
    "df[\"recommendation_rate\"] = df[\"recommendation_rate\"].apply(lambda x : int(x.split(\"%\")[0]))\n",
    "df[\"company_employee_num\"] = df[\"company_employee_num\"].apply(lambda x : x.strip())"
   ]
  },
  {
   "cell_type": "code",
   "execution_count": 6,
   "metadata": {},
   "outputs": [
    {
     "data": {
      "text/html": [
       "<div>\n",
       "<style scoped>\n",
       "    .dataframe tbody tr th:only-of-type {\n",
       "        vertical-align: middle;\n",
       "    }\n",
       "\n",
       "    .dataframe tbody tr th {\n",
       "        vertical-align: top;\n",
       "    }\n",
       "\n",
       "    .dataframe thead th {\n",
       "        text-align: right;\n",
       "    }\n",
       "</style>\n",
       "<table border=\"1\" class=\"dataframe\">\n",
       "  <thead>\n",
       "    <tr style=\"text-align: right;\">\n",
       "      <th></th>\n",
       "      <th>company_rating</th>\n",
       "      <th>five_star_rating</th>\n",
       "      <th>four_star_rating</th>\n",
       "      <th>three_star_rating</th>\n",
       "      <th>two_star_rating</th>\n",
       "      <th>one_star_rating</th>\n",
       "      <th>salary_rate</th>\n",
       "      <th>recommendation_rate</th>\n",
       "    </tr>\n",
       "  </thead>\n",
       "  <tbody>\n",
       "    <tr>\n",
       "      <th>count</th>\n",
       "      <td>7460.000000</td>\n",
       "      <td>7460.000000</td>\n",
       "      <td>7460.000000</td>\n",
       "      <td>7460.000000</td>\n",
       "      <td>7460.000000</td>\n",
       "      <td>7460.000000</td>\n",
       "      <td>7460.000000</td>\n",
       "      <td>7460.000000</td>\n",
       "    </tr>\n",
       "    <tr>\n",
       "      <th>mean</th>\n",
       "      <td>3.596714</td>\n",
       "      <td>13.953619</td>\n",
       "      <td>8.089410</td>\n",
       "      <td>4.177346</td>\n",
       "      <td>1.886729</td>\n",
       "      <td>4.270777</td>\n",
       "      <td>79.408311</td>\n",
       "      <td>63.771716</td>\n",
       "    </tr>\n",
       "    <tr>\n",
       "      <th>std</th>\n",
       "      <td>0.742846</td>\n",
       "      <td>39.722178</td>\n",
       "      <td>17.843457</td>\n",
       "      <td>8.315588</td>\n",
       "      <td>3.280621</td>\n",
       "      <td>7.406286</td>\n",
       "      <td>16.481999</td>\n",
       "      <td>21.671777</td>\n",
       "    </tr>\n",
       "    <tr>\n",
       "      <th>min</th>\n",
       "      <td>1.000000</td>\n",
       "      <td>0.000000</td>\n",
       "      <td>0.000000</td>\n",
       "      <td>0.000000</td>\n",
       "      <td>0.000000</td>\n",
       "      <td>0.000000</td>\n",
       "      <td>0.000000</td>\n",
       "      <td>0.000000</td>\n",
       "    </tr>\n",
       "    <tr>\n",
       "      <th>25%</th>\n",
       "      <td>3.204400</td>\n",
       "      <td>4.000000</td>\n",
       "      <td>2.000000</td>\n",
       "      <td>1.000000</td>\n",
       "      <td>0.000000</td>\n",
       "      <td>1.000000</td>\n",
       "      <td>72.000000</td>\n",
       "      <td>50.000000</td>\n",
       "    </tr>\n",
       "    <tr>\n",
       "      <th>50%</th>\n",
       "      <td>3.750000</td>\n",
       "      <td>6.000000</td>\n",
       "      <td>4.000000</td>\n",
       "      <td>2.000000</td>\n",
       "      <td>1.000000</td>\n",
       "      <td>2.000000</td>\n",
       "      <td>83.000000</td>\n",
       "      <td>67.000000</td>\n",
       "    </tr>\n",
       "    <tr>\n",
       "      <th>75%</th>\n",
       "      <td>4.125000</td>\n",
       "      <td>12.000000</td>\n",
       "      <td>8.000000</td>\n",
       "      <td>4.000000</td>\n",
       "      <td>2.000000</td>\n",
       "      <td>5.000000</td>\n",
       "      <td>91.000000</td>\n",
       "      <td>80.000000</td>\n",
       "    </tr>\n",
       "    <tr>\n",
       "      <th>max</th>\n",
       "      <td>5.000000</td>\n",
       "      <td>1427.000000</td>\n",
       "      <td>437.000000</td>\n",
       "      <td>165.000000</td>\n",
       "      <td>66.000000</td>\n",
       "      <td>160.000000</td>\n",
       "      <td>111.000000</td>\n",
       "      <td>100.000000</td>\n",
       "    </tr>\n",
       "  </tbody>\n",
       "</table>\n",
       "</div>"
      ],
      "text/plain": [
       "       company_rating  five_star_rating  four_star_rating  three_star_rating  \\\n",
       "count     7460.000000       7460.000000       7460.000000        7460.000000   \n",
       "mean         3.596714         13.953619          8.089410           4.177346   \n",
       "std          0.742846         39.722178         17.843457           8.315588   \n",
       "min          1.000000          0.000000          0.000000           0.000000   \n",
       "25%          3.204400          4.000000          2.000000           1.000000   \n",
       "50%          3.750000          6.000000          4.000000           2.000000   \n",
       "75%          4.125000         12.000000          8.000000           4.000000   \n",
       "max          5.000000       1427.000000        437.000000         165.000000   \n",
       "\n",
       "       two_star_rating  one_star_rating  salary_rate  recommendation_rate  \n",
       "count      7460.000000      7460.000000  7460.000000          7460.000000  \n",
       "mean          1.886729         4.270777    79.408311            63.771716  \n",
       "std           3.280621         7.406286    16.481999            21.671777  \n",
       "min           0.000000         0.000000     0.000000             0.000000  \n",
       "25%           0.000000         1.000000    72.000000            50.000000  \n",
       "50%           1.000000         2.000000    83.000000            67.000000  \n",
       "75%           2.000000         5.000000    91.000000            80.000000  \n",
       "max          66.000000       160.000000   111.000000           100.000000  "
      ]
     },
     "execution_count": 6,
     "metadata": {},
     "output_type": "execute_result"
    }
   ],
   "source": [
    "df.describe()"
   ]
  },
  {
   "cell_type": "markdown",
   "metadata": {},
   "source": [
    "### 2.1 Distribution of Numeric Features"
   ]
  },
  {
   "cell_type": "code",
   "execution_count": 7,
   "metadata": {},
   "outputs": [
    {
     "data": {
      "image/png": "[encoded data removed]",
      "text/plain": [
       "<Figure size 864x576 with 9 Axes>"
      ]
     },
     "metadata": {},
     "output_type": "display_data"
    }
   ],
   "source": [
    "df.hist(figsize=(12,8), xrot=45)\n",
    "plt.show()"
   ]
  },
  {
   "cell_type": "code",
   "execution_count": 20,
   "metadata": {},
   "outputs": [
    {
     "name": "stdout",
     "output_type": "stream",
     "text": [
      "company_state 12\n",
      "company_employee_num 7\n",
      "company_benefit 2824\n",
      "company_dress_code 591\n",
      "company_language 358\n",
      "company_work_hours 1388\n"
     ]
    }
   ],
   "source": [
    "for feature in df.dtypes[df.dtypes == \"object\"].drop([\"company_name\",\"company_address\"]).index:\n",
    "    print(feature, df[feature].nunique())"
   ]
  },
  {
   "cell_type": "markdown",
   "metadata": {},
   "source": [
    "Need to do a lot of sparse group for the categorical variable"
   ]
  },
  {
   "cell_type": "code",
   "execution_count": 27,
   "metadata": {},
   "outputs": [
    {
     "data": {
      "image/png": "[encoded data removed]",
      "text/plain": [
       "<Figure size 864x576 with 1 Axes>"
      ]
     },
     "metadata": {},
     "output_type": "display_data"
    }
   ],
   "source": [
    "plt.figure(figsize=(12,8))\n",
    "\n",
    "plt.title(\"Comapany State\")\n",
    "\n",
    "sns.countplot(y=df[\"company_state\"], order = df['company_state'].value_counts().index)\n",
    "plt.show()"
   ]
  },
  {
   "cell_type": "code",
   "execution_count": 36,
   "metadata": {},
   "outputs": [
    {
     "data": {
      "image/png": "[encoded data removed]",
      "text/plain": [
       "<Figure size 864x576 with 1 Axes>"
      ]
     },
     "metadata": {},
     "output_type": "display_data"
    }
   ],
   "source": [
    "order = [\"1 - 50\", \"51 - 200\", \"201 - 500\", \"501 - 1000\", \"1001 - 2000\", \"2001 - 5000\", \"> 5000\"]\n",
    "\n",
    "\n",
    "plt.figure(figsize=(12,8))\n",
    "\n",
    "plt.title(\"Comapany Size\")\n",
    "\n",
    "sns.countplot(y=df[\"company_employee_num\"], order = order)\n",
    "plt.show()"
   ]
  },
  {
   "cell_type": "code",
   "execution_count": null,
   "metadata": {},
   "outputs": [],
   "source": []
  },
  {
   "cell_type": "code",
   "execution_count": null,
   "metadata": {},
   "outputs": [],
   "source": []
  },
  {
   "cell_type": "code",
   "execution_count": 37,
   "metadata": {},
   "outputs": [
    {
     "data": {
      "application/vnd.plotly.v1+json": {
       "config": {
        "plotlyServerURL": "https://plot.ly"
       },
       "data": [
        {
         "alignmentgroup": "True",
         "hovertemplate": "x=%{x}<br>y=%{y}<extra></extra>",
         "legendgroup": "",
         "marker": {
          "color": "#636efa",
          "pattern": {
           "shape": ""
          }
         },
         "name": "",
         "offsetgroup": "",
         "orientation": "v",
         "showlegend": false,
         "textposition": "auto",
         "type": "bar",
         "x": [
          "a",
          "b",
          "c"
         ],
         "xaxis": "x",
         "y": [
          1,
          3,
          2
         ],
         "yaxis": "y"
        }
       ],
       "layout": {
        "barmode": "relative",
        "legend": {
         "tracegroupgap": 0
        },
        "margin": {
         "t": 60
        },
        "template": {
         "data": {
          "bar": [
           {
            "error_x": {
             "color": "#2a3f5f"
            },
            "error_y": {
             "color": "#2a3f5f"
            },
            "marker": {
             "line": {
              "color": "#E5ECF6",
              "width": 0.5
             },
             "pattern": {
              "fillmode": "overlay",
              "size": 10,
              "solidity": 0.2
             }
            },
            "type": "bar"
           }
          ],
          "barpolar": [
           {
            "marker": {
             "line": {
              "color": "#E5ECF6",
              "width": 0.5
             },
             "pattern": {
              "fillmode": "overlay",
              "size": 10,
              "solidity": 0.2
             }
            },
            "type": "barpolar"
           }
          ],
          "carpet": [
           {
            "aaxis": {
             "endlinecolor": "#2a3f5f",
             "gridcolor": "white",
             "linecolor": "white",
             "minorgridcolor": "white",
             "startlinecolor": "#2a3f5f"
            },
            "baxis": {
             "endlinecolor": "#2a3f5f",
             "gridcolor": "white",
             "linecolor": "white",
             "minorgridcolor": "white",
             "startlinecolor": "#2a3f5f"
            },
            "type": "carpet"
           }
          ],
          "choropleth": [
           {
            "colorbar": {
             "outlinewidth": 0,
             "ticks": ""
            },
            "type": "choropleth"
           }
          ],
          "contour": [
           {
            "colorbar": {
             "outlinewidth": 0,
             "ticks": ""
            },
            "colorscale": [
             [
              0,
              "#0d0887"
             ],
             [
              0.1111111111111111,
              "#46039f"
             ],
             [
              0.2222222222222222,
              "#7201a8"
             ],
             [
              0.3333333333333333,
              "#9c179e"
             ],
             [
              0.4444444444444444,
              "#bd3786"
             ],
             [
              0.5555555555555556,
              "#d8576b"
             ],
             [
              0.6666666666666666,
              "#ed7953"
             ],
             [
              0.7777777777777778,
              "#fb9f3a"
             ],
             [
              0.8888888888888888,
              "#fdca26"
             ],
             [
              1,
              "#f0f921"
             ]
            ],
            "type": "contour"
           }
          ],
          "contourcarpet": [
           {
            "colorbar": {
             "outlinewidth": 0,
             "ticks": ""
            },
            "type": "contourcarpet"
           }
          ],
          "heatmap": [
           {
            "colorbar": {
             "outlinewidth": 0,
             "ticks": ""
            },
            "colorscale": [
             [
              0,
              "#0d0887"
             ],
             [
              0.1111111111111111,
              "#46039f"
             ],
             [
              0.2222222222222222,
              "#7201a8"
             ],
             [
              0.3333333333333333,
              "#9c179e"
             ],
             [
              0.4444444444444444,
              "#bd3786"
             ],
             [
              0.5555555555555556,
              "#d8576b"
             ],
             [
              0.6666666666666666,
              "#ed7953"
             ],
             [
              0.7777777777777778,
              "#fb9f3a"
             ],
             [
              0.8888888888888888,
              "#fdca26"
             ],
             [
              1,
              "#f0f921"
             ]
            ],
            "type": "heatmap"
           }
          ],
          "heatmapgl": [
           {
            "colorbar": {
             "outlinewidth": 0,
             "ticks": ""
            },
            "colorscale": [
             [
              0,
              "#0d0887"
             ],
             [
              0.1111111111111111,
              "#46039f"
             ],
             [
              0.2222222222222222,
              "#7201a8"
             ],
             [
              0.3333333333333333,
              "#9c179e"
             ],
             [
              0.4444444444444444,
              "#bd3786"
             ],
             [
              0.5555555555555556,
              "#d8576b"
             ],
             [
              0.6666666666666666,
              "#ed7953"
             ],
             [
              0.7777777777777778,
              "#fb9f3a"
             ],
             [
              0.8888888888888888,
              "#fdca26"
             ],
             [
              1,
              "#f0f921"
             ]
            ],
            "type": "heatmapgl"
           }
          ],
          "histogram": [
           {
            "marker": {
             "pattern": {
              "fillmode": "overlay",
              "size": 10,
              "solidity": 0.2
             }
            },
            "type": "histogram"
           }
          ],
          "histogram2d": [
           {
            "colorbar": {
             "outlinewidth": 0,
             "ticks": ""
            },
            "colorscale": [
             [
              0,
              "#0d0887"
             ],
             [
              0.1111111111111111,
              "#46039f"
             ],
             [
              0.2222222222222222,
              "#7201a8"
             ],
             [
              0.3333333333333333,
              "#9c179e"
             ],
             [
              0.4444444444444444,
              "#bd3786"
             ],
             [
              0.5555555555555556,
              "#d8576b"
             ],
             [
              0.6666666666666666,
              "#ed7953"
             ],
             [
              0.7777777777777778,
              "#fb9f3a"
             ],
             [
              0.8888888888888888,
              "#fdca26"
             ],
             [
              1,
              "#f0f921"
             ]
            ],
            "type": "histogram2d"
           }
          ],
          "histogram2dcontour": [
           {
            "colorbar": {
             "outlinewidth": 0,
             "ticks": ""
            },
            "colorscale": [
             [
              0,
              "#0d0887"
             ],
             [
              0.1111111111111111,
              "#46039f"
             ],
             [
              0.2222222222222222,
              "#7201a8"
             ],
             [
              0.3333333333333333,
              "#9c179e"
             ],
             [
              0.4444444444444444,
              "#bd3786"
             ],
             [
              0.5555555555555556,
              "#d8576b"
             ],
             [
              0.6666666666666666,
              "#ed7953"
             ],
             [
              0.7777777777777778,
              "#fb9f3a"
             ],
             [
              0.8888888888888888,
              "#fdca26"
             ],
             [
              1,
              "#f0f921"
             ]
            ],
            "type": "histogram2dcontour"
           }
          ],
          "mesh3d": [
           {
            "colorbar": {
             "outlinewidth": 0,
             "ticks": ""
            },
            "type": "mesh3d"
           }
          ],
          "parcoords": [
           {
            "line": {
             "colorbar": {
              "outlinewidth": 0,
              "ticks": ""
             }
            },
            "type": "parcoords"
           }
          ],
          "pie": [
           {
            "automargin": true,
            "type": "pie"
           }
          ],
          "scatter": [
           {
            "fillpattern": {
             "fillmode": "overlay",
             "size": 10,
             "solidity": 0.2
            },
            "type": "scatter"
           }
          ],
          "scatter3d": [
           {
            "line": {
             "colorbar": {
              "outlinewidth": 0,
              "ticks": ""
             }
            },
            "marker": {
             "colorbar": {
              "outlinewidth": 0,
              "ticks": ""
             }
            },
            "type": "scatter3d"
           }
          ],
          "scattercarpet": [
           {
            "marker": {
             "colorbar": {
              "outlinewidth": 0,
              "ticks": ""
             }
            },
            "type": "scattercarpet"
           }
          ],
          "scattergeo": [
           {
            "marker": {
             "colorbar": {
              "outlinewidth": 0,
              "ticks": ""
             }
            },
            "type": "scattergeo"
           }
          ],
          "scattergl": [
           {
            "marker": {
             "colorbar": {
              "outlinewidth": 0,
              "ticks": ""
             }
            },
            "type": "scattergl"
           }
          ],
          "scattermapbox": [
           {
            "marker": {
             "colorbar": {
              "outlinewidth": 0,
              "ticks": ""
             }
            },
            "type": "scattermapbox"
           }
          ],
          "scatterpolar": [
           {
            "marker": {
             "colorbar": {
              "outlinewidth": 0,
              "ticks": ""
             }
            },
            "type": "scatterpolar"
           }
          ],
          "scatterpolargl": [
           {
            "marker": {
             "colorbar": {
              "outlinewidth": 0,
              "ticks": ""
             }
            },
            "type": "scatterpolargl"
           }
          ],
          "scatterternary": [
           {
            "marker": {
             "colorbar": {
              "outlinewidth": 0,
              "ticks": ""
             }
            },
            "type": "scatterternary"
           }
          ],
          "surface": [
           {
            "colorbar": {
             "outlinewidth": 0,
             "ticks": ""
            },
            "colorscale": [
             [
              0,
              "#0d0887"
             ],
             [
              0.1111111111111111,
              "#46039f"
             ],
             [
              0.2222222222222222,
              "#7201a8"
             ],
             [
              0.3333333333333333,
              "#9c179e"
             ],
             [
              0.4444444444444444,
              "#bd3786"
             ],
             [
              0.5555555555555556,
              "#d8576b"
             ],
             [
              0.6666666666666666,
              "#ed7953"
             ],
             [
              0.7777777777777778,
              "#fb9f3a"
             ],
             [
              0.8888888888888888,
              "#fdca26"
             ],
             [
              1,
              "#f0f921"
             ]
            ],
            "type": "surface"
           }
          ],
          "table": [
           {
            "cells": {
             "fill": {
              "color": "#EBF0F8"
             },
             "line": {
              "color": "white"
             }
            },
            "header": {
             "fill": {
              "color": "#C8D4E3"
             },
             "line": {
              "color": "white"
             }
            },
            "type": "table"
           }
          ]
         },
         "layout": {
          "annotationdefaults": {
           "arrowcolor": "#2a3f5f",
           "arrowhead": 0,
           "arrowwidth": 1
          },
          "autotypenumbers": "strict",
          "coloraxis": {
           "colorbar": {
            "outlinewidth": 0,
            "ticks": ""
           }
          },
          "colorscale": {
           "diverging": [
            [
             0,
             "#8e0152"
            ],
            [
             0.1,
             "#c51b7d"
            ],
            [
             0.2,
             "#de77ae"
            ],
            [
             0.3,
             "#f1b6da"
            ],
            [
             0.4,
             "#fde0ef"
            ],
            [
             0.5,
             "#f7f7f7"
            ],
            [
             0.6,
             "#e6f5d0"
            ],
            [
             0.7,
             "#b8e186"
            ],
            [
             0.8,
             "#7fbc41"
            ],
            [
             0.9,
             "#4d9221"
            ],
            [
             1,
             "#276419"
            ]
           ],
           "sequential": [
            [
             0,
             "#0d0887"
            ],
            [
             0.1111111111111111,
             "#46039f"
            ],
            [
             0.2222222222222222,
             "#7201a8"
            ],
            [
             0.3333333333333333,
             "#9c179e"
            ],
            [
             0.4444444444444444,
             "#bd3786"
            ],
            [
             0.5555555555555556,
             "#d8576b"
            ],
            [
             0.6666666666666666,
             "#ed7953"
            ],
            [
             0.7777777777777778,
             "#fb9f3a"
            ],
            [
             0.8888888888888888,
             "#fdca26"
            ],
            [
             1,
             "#f0f921"
            ]
           ],
           "sequentialminus": [
            [
             0,
             "#0d0887"
            ],
            [
             0.1111111111111111,
             "#46039f"
            ],
            [
             0.2222222222222222,
             "#7201a8"
            ],
            [
             0.3333333333333333,
             "#9c179e"
            ],
            [
             0.4444444444444444,
             "#bd3786"
            ],
            [
             0.5555555555555556,
             "#d8576b"
            ],
            [
             0.6666666666666666,
             "#ed7953"
            ],
            [
             0.7777777777777778,
             "#fb9f3a"
            ],
            [
             0.8888888888888888,
             "#fdca26"
            ],
            [
             1,
             "#f0f921"
            ]
           ]
          },
          "colorway": [
           "#636efa",
           "#EF553B",
           "#00cc96",
           "#ab63fa",
           "#FFA15A",
           "#19d3f3",
           "#FF6692",
           "#B6E880",
           "#FF97FF",
           "#FECB52"
          ],
          "font": {
           "color": "#2a3f5f"
          },
          "geo": {
           "bgcolor": "white",
           "lakecolor": "white",
           "landcolor": "#E5ECF6",
           "showlakes": true,
           "showland": true,
           "subunitcolor": "white"
          },
          "hoverlabel": {
           "align": "left"
          },
          "hovermode": "closest",
          "mapbox": {
           "style": "light"
          },
          "paper_bgcolor": "white",
          "plot_bgcolor": "#E5ECF6",
          "polar": {
           "angularaxis": {
            "gridcolor": "white",
            "linecolor": "white",
            "ticks": ""
           },
           "bgcolor": "#E5ECF6",
           "radialaxis": {
            "gridcolor": "white",
            "linecolor": "white",
            "ticks": ""
           }
          },
          "scene": {
           "xaxis": {
            "backgroundcolor": "#E5ECF6",
            "gridcolor": "white",
            "gridwidth": 2,
            "linecolor": "white",
            "showbackground": true,
            "ticks": "",
            "zerolinecolor": "white"
           },
           "yaxis": {
            "backgroundcolor": "#E5ECF6",
            "gridcolor": "white",
            "gridwidth": 2,
            "linecolor": "white",
            "showbackground": true,
            "ticks": "",
            "zerolinecolor": "white"
           },
           "zaxis": {
            "backgroundcolor": "#E5ECF6",
            "gridcolor": "white",
            "gridwidth": 2,
            "linecolor": "white",
            "showbackground": true,
            "ticks": "",
            "zerolinecolor": "white"
           }
          },
          "shapedefaults": {
           "line": {
            "color": "#2a3f5f"
           }
          },
          "ternary": {
           "aaxis": {
            "gridcolor": "white",
            "linecolor": "white",
            "ticks": ""
           },
           "baxis": {
            "gridcolor": "white",
            "linecolor": "white",
            "ticks": ""
           },
           "bgcolor": "#E5ECF6",
           "caxis": {
            "gridcolor": "white",
            "linecolor": "white",
            "ticks": ""
           }
          },
          "title": {
           "x": 0.05
          },
          "xaxis": {
           "automargin": true,
           "gridcolor": "white",
           "linecolor": "white",
           "ticks": "",
           "title": {
            "standoff": 15
           },
           "zerolinecolor": "white",
           "zerolinewidth": 2
          },
          "yaxis": {
           "automargin": true,
           "gridcolor": "white",
           "linecolor": "white",
           "ticks": "",
           "title": {
            "standoff": 15
           },
           "zerolinecolor": "white",
           "zerolinewidth": 2
          }
         }
        },
        "xaxis": {
         "anchor": "y",
         "domain": [
          0,
          1
         ],
         "title": {
          "text": "x"
         }
        },
        "yaxis": {
         "anchor": "x",
         "domain": [
          0,
          1
         ],
         "title": {
          "text": "y"
         }
        }
       }
      }
     },
     "metadata": {},
     "output_type": "display_data"
    }
   ],
   "source": [
    "import plotly.express as px\n",
    "fig = px.bar(x=[\"a\", \"b\", \"c\"], y=[1, 3, 2])\n",
    "fig.show()"
   ]
  },
  {
   "cell_type": "code",
   "execution_count": null,
   "metadata": {},
   "outputs": [],
   "source": []
  }
 ],
 "metadata": {
  "kernelspec": {
   "display_name": "Python 3.10.4 ('capstone1')",
   "language": "python",
   "name": "python3"
  },
  "language_info": {
   "codemirror_mode": {
    "name": "ipython",
    "version": 3
   },
   "file_extension": ".py",
   "mimetype": "text/x-python",
   "name": "python",
   "nbconvert_exporter": "python",
   "pygments_lexer": "ipython3",
   "version": "3.10.4"
  },
  "orig_nbformat": 4,
  "vscode": {
   "interpreter": {
    "hash": "c882173baee34f21eff68704301ba2b55685f95aa2269744428f4db6a6b39555"
   }
  }
 },
 "nbformat": 4,
 "nbformat_minor": 2
}
